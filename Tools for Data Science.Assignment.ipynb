{
 "cells": [
  {
   "cell_type": "code",
   "execution_count": 9,
   "metadata": {
    "scrolled": true
   },
   "outputs": [
    {
     "name": "stdout",
     "output_type": "stream",
     "text": [
      "For Data Science course you will pay in total 152 $.\n"
     ]
    }
   ],
   "source": [
    "import math                #importing math for math.ceil() function (rounding up).\n",
    "MonthlyFee = 38            # monthly fee in USD\n",
    "CourseLength = 11          # course length according to Coursera in month\n",
    "MyPace = 3                 # the coefficient which show how much times faster you can pass the course\n",
    "TotalFee = math.ceil(CourseLength/MyPace)*MonthlyFee # counting the fee\n",
    "print('For Data Science course you will pay in total',TotalFee,'$.') # output the values."
   ]
  },
  {
   "cell_type": "code",
   "execution_count": null,
   "metadata": {},
   "outputs": [],
   "source": []
  }
 ],
 "metadata": {
  "kernelspec": {
   "display_name": "Python 3 (ipykernel)",
   "language": "python",
   "name": "python3"
  },
  "language_info": {
   "codemirror_mode": {
    "name": "ipython",
    "version": 3
   },
   "file_extension": ".py",
   "mimetype": "text/x-python",
   "name": "python",
   "nbconvert_exporter": "python",
   "pygments_lexer": "ipython3",
   "version": "3.9.7"
  }
 },
 "nbformat": 4,
 "nbformat_minor": 1
}
